{
 "cells": [
  {
   "cell_type": "code",
   "execution_count": null,
   "id": "da97c25a",
   "metadata": {},
   "outputs": [],
   "source": [
    "import pandas as pd\n",
    "import pandas_datareader as web\n",
    "import datetime as dt\n",
    "import yfinance as yf"
   ]
  },
  {
   "cell_type": "code",
   "execution_count": null,
   "id": "4a2265dc",
   "metadata": {},
   "outputs": [],
   "source": [
    "# Getting stock market data\n",
    "\n",
    "COUNTRIES = {\n",
    "    'USA': {\n",
    "        'suffix': '',\n",
    "        'currency': 'USD'\n",
    "    },\n",
    "    'IND': {\n",
    "        'suffix': '.NS',\n",
    "        'currency': 'INR'\n",
    "    }\n",
    "}\n",
    "\n",
    "def get_stock_data(stocks, start, end, country, interval='1d', period=None):\n",
    "    \n",
    "    \"\"\"\n",
    "    Parameters\n",
    "    ----------\n",
    "    stocks : list / str\n",
    "        list of stock tickers or a str ticker\n",
    "    start : <class 'datetime.datetime'>\n",
    "        start date\n",
    "    end : <class 'datetime.datetime'>\n",
    "        end date\n",
    "    country: str\n",
    "        country ISO code of stock\n",
    "    interval: str\n",
    "        fetch data by interval (including intraday if period < 60 days)\n",
    "        valid intervals: 1m,2m,5m,15m,30m,60m,90m,1h,1d,5d,1wk,1mo,3mo\n",
    "    period: str\n",
    "        use \"period\" instead of start/end\n",
    "        valid periods: 1d,5d,1mo,3mo,6mo,1y,2y,5y,10y,ytd,max\n",
    "    \"\"\"\n",
    "    \n",
    "    if isinstance(stocks, list):\n",
    "        pass\n",
    "    elif isinstance(stocks, str):\n",
    "        stocks = [stocks]\n",
    "    else:\n",
    "        raise TypeError(\"str / list of str expected for stocks\")\n",
    "\n",
    "    \n",
    "    suffixed_ticker = [stock + COUNTRIES[country]['suffix'] for stock in stocks]\n",
    "    \n",
    "    if(not period):\n",
    "        data = yf.download(suffixed_ticker, start=start, end=end, interval=interval)\n",
    "\n",
    "    else:\n",
    "        data = yf.download(suffixed_ticker, interval=interval, period=period)\n",
    "\n",
    "    return data, COUNTRIES[country]['currency']\n",
    "    \n",
    "    \n",
    "    \n",
    "stocks = ['BA', 'AMD']\n",
    "stocks_ind = ['SBIN', 'RELIANCE']\n",
    "\n",
    "INDIA_ISO = 'IND'\n",
    "USA_ISO = 'USA'\n",
    "\n",
    "\n",
    "start = dt.datetime(2021, 5, 21)\n",
    "end = dt.datetime.now()\n",
    "\n",
    "\n",
    "data, currency = get_stock_data(\"AAPL\", start, end, USA_ISO, interval='1m')\n",
    "print(f'Currency is {currency}')\n",
    "print(data)\n",
    "    "
   ]
  },
  {
   "cell_type": "code",
   "execution_count": null,
   "id": "6114c386",
   "metadata": {},
   "outputs": [],
   "source": [
    "import ccxt\n",
    "print(ccxt.exchanges) # print a list of all available exchange classes"
   ]
  },
  {
   "cell_type": "code",
   "execution_count": null,
   "id": "5c9577a9",
   "metadata": {},
   "outputs": [],
   "source": []
  }
 ],
 "metadata": {
  "kernelspec": {
   "display_name": "Python 3",
   "language": "python",
   "name": "python3"
  },
  "language_info": {
   "codemirror_mode": {
    "name": "ipython",
    "version": 3
   },
   "file_extension": ".py",
   "mimetype": "text/x-python",
   "name": "python",
   "nbconvert_exporter": "python",
   "pygments_lexer": "ipython3",
   "version": "3.9.2"
  }
 },
 "nbformat": 4,
 "nbformat_minor": 5
}
