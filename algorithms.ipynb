{
 "cells": [
  {
   "cell_type": "code",
   "execution_count": 4,
   "id": "afb7b608",
   "metadata": {},
   "outputs": [],
   "source": [
    "from data import *"
   ]
  },
  {
   "cell_type": "code",
   "execution_count": 10,
   "id": "2193fdc7",
   "metadata": {},
   "outputs": [
    {
     "ename": "ModuleNotFoundError",
     "evalue": "No module named 'fbprophet'",
     "output_type": "error",
     "traceback": [
      "\u001b[1;31m---------------------------------------------------------------------------\u001b[0m",
      "\u001b[1;31mModuleNotFoundError\u001b[0m                       Traceback (most recent call last)",
      "\u001b[1;32m<ipython-input-10-dc29be8de5bd>\u001b[0m in \u001b[0;36m<module>\u001b[1;34m\u001b[0m\n\u001b[0;32m      2\u001b[0m \u001b[1;32mimport\u001b[0m \u001b[0mnumpy\u001b[0m \u001b[1;32mas\u001b[0m \u001b[0mnp\u001b[0m\u001b[1;33m\u001b[0m\u001b[1;33m\u001b[0m\u001b[0m\n\u001b[0;32m      3\u001b[0m \u001b[1;32mimport\u001b[0m \u001b[0mpandas\u001b[0m \u001b[1;32mas\u001b[0m \u001b[0mpd\u001b[0m\u001b[1;33m\u001b[0m\u001b[1;33m\u001b[0m\u001b[0m\n\u001b[1;32m----> 4\u001b[1;33m \u001b[1;32mfrom\u001b[0m \u001b[0mfbprophet\u001b[0m \u001b[1;32mimport\u001b[0m \u001b[0mProphet\u001b[0m\u001b[1;33m\u001b[0m\u001b[1;33m\u001b[0m\u001b[0m\n\u001b[0m\u001b[0;32m      5\u001b[0m \u001b[1;32mimport\u001b[0m \u001b[0mnumpy\u001b[0m \u001b[1;32mas\u001b[0m \u001b[0mnp\u001b[0m\u001b[1;33m\u001b[0m\u001b[1;33m\u001b[0m\u001b[0m\n\u001b[0;32m      6\u001b[0m \u001b[1;33m\u001b[0m\u001b[0m\n",
      "\u001b[1;31mModuleNotFoundError\u001b[0m: No module named 'fbprophet'"
     ]
    }
   ],
   "source": [
    "import matplotlib.pyplot as plt\n",
    "import numpy as np\n",
    "import pandas as pd\n",
    "from fbprophet import Prophet\n",
    "import numpy as np\n",
    "\n",
    "\n",
    "def plot_vals(x,y):\n",
    "\n",
    "\n",
    "    # Data for plotting\n",
    "\n",
    "\n",
    "    fig, ax = plt.subplots()\n",
    "    ax.plot(x, y)\n",
    "\n",
    "    ax.set(xlabel='backtest data', ylabel='MSE',\n",
    "           title='About as simple as it gets, folks')\n",
    "    ax.grid()\n",
    "\n",
    "    fig.savefig(\"test.png\")\n",
    "    plt.show()\n",
    "\n",
    "\n",
    "def calc_timeseries_predictions(num_data_points, backtest_duration, show_predictions=False, filename='./gemini_BTCUSD_1hr.csv'):\n",
    "    \n",
    "    df = pd.read_csv(filename)\n",
    "    df_filtered = df[[\"Date\", \"Open\"]]\n",
    "    df_filtered = df_filtered.iloc[::-1]\n",
    "\n",
    "    n = len(df_filtered)\n",
    "    \n",
    "    actual = df_filtered[len(df_filtered)-backtest_duration:]\n",
    "\n",
    "    df_filtered = df_filtered.dropna()\n",
    "    df_filtered = df_filtered[n-num_data_points:n-backtest_duration]\n",
    "    \n",
    "    df_filtered = df_filtered.iloc[:,:2]\n",
    "    df_filtered.columns = ['ds', 'y']\n",
    "    \n",
    "    m = Prophet(yearly_seasonality=False)\n",
    "    m.fit(df_filtered)\n",
    "    \n",
    "    future = m.make_future_dataframe(periods=backtest_duration, freq='60min')\n",
    "    \n",
    "    forecast = m.predict(future)\n",
    "    predictions = forecast[['ds', 'yhat', 'yhat_lower', 'yhat_upper']][len(forecast)-backtest_duration:]\n",
    "    predictions['yhat'].to_numpy()\n",
    "\n",
    "    if(show_predictions):\n",
    "        print('Actual ->')\n",
    "        print(actual)\n",
    "        print('Predictions->', predictions)\n",
    "#     print(predictions)\n",
    "    \n",
    "    actual_pred = actual['Open'].to_numpy()\n",
    "    predicted = predictions['yhat'].to_numpy()\n",
    "    \n",
    "    rmse = np.sqrt(np.square(actual_pred - predicted)).mean(axis=0)\n",
    "    return rmse\n",
    "\n",
    "mse = calc_timeseries_predictions(100, 24)\n",
    "\n"
   ]
  },
  {
   "cell_type": "code",
   "execution_count": null,
   "id": "d7ce4f7b",
   "metadata": {},
   "outputs": [],
   "source": []
  }
 ],
 "metadata": {
  "kernelspec": {
   "display_name": "Python 3",
   "language": "python",
   "name": "python3"
  },
  "language_info": {
   "codemirror_mode": {
    "name": "ipython",
    "version": 3
   },
   "file_extension": ".py",
   "mimetype": "text/x-python",
   "name": "python",
   "nbconvert_exporter": "python",
   "pygments_lexer": "ipython3",
   "version": "3.9.2"
  }
 },
 "nbformat": 4,
 "nbformat_minor": 5
}
