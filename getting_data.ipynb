{
 "cells": [
  {
   "cell_type": "code",
   "execution_count": 31,
   "id": "da97c25a",
   "metadata": {},
   "outputs": [],
   "source": [
    "import pandas as pd\n",
    "import pandas_datareader as web\n",
    "import datetime as dt\n",
    "import yfinance as yf"
   ]
  },
  {
   "cell_type": "code",
   "execution_count": 45,
   "id": "4a2265dc",
   "metadata": {},
   "outputs": [
    {
     "name": "stdout",
     "output_type": "stream",
     "text": [
      "['SBIN.NS', 'RELIANCE.NS']\n",
      "here2\n",
      "[*********************100%***********************]  2 of 2 completed\n",
      "            RELIANCE.NS     SBIN.NS\n",
      "Date                               \n",
      "2021-03-01  2003.099976  364.299988\n",
      "2021-04-01  1994.500000  353.500000\n",
      "2021-05-01  2002.550049  401.200012\n",
      "2021-05-24  1985.650024  412.049988\n"
     ]
    }
   ],
   "source": [
    "COUNTRIES = {\n",
    "    'USA': {\n",
    "        'suffix': '',\n",
    "        'currency': 'USD'\n",
    "    },\n",
    "    'IND': {\n",
    "        'suffix': '.NS',\n",
    "        'currency': 'INR'\n",
    "    }\n",
    "}\n",
    "\n",
    "def get_stock_data(stocks, start, end, country, interval, period=None):\n",
    "    \n",
    "    if isinstance(stocks, list):\n",
    "        pass\n",
    "    elif isinstance(stocks, str):\n",
    "        stocks = [stocks]\n",
    "    else:\n",
    "        return \"Invalid Ticker exception\"\n",
    "    \n",
    "    suffixed_ticker = [stock + COUNTRIES[country]['suffix'] for stock in stocks]\n",
    "    print(suffixed_ticker)\n",
    "    \n",
    "    if(not period):\n",
    "        print('here')\n",
    "        data = yf.download(suffixed_ticker, start=start, end=end, interval=interval)\n",
    "\n",
    "    else:\n",
    "        \n",
    "        print('here2')\n",
    "        data = yf.download(suffixed_ticker, interval=interval, period=period)\n",
    "\n",
    "    last10_days_closing = data[len(data)-10:]['Close']\n",
    "    print(last10_days_closing)\n",
    "    \n",
    "    \n",
    "    \n",
    "stocks = ['BA', 'AMD']\n",
    "stocks_ind = ['SBIN', 'RELIANCE']\n",
    "\n",
    "INDIA_ISO = 'IND'\n",
    "USA_ISO = 'USA'\n",
    "\n",
    "\n",
    "start = dt.datetime(2021, 5, 19)\n",
    "end = dt.datetime.now()\n",
    "\n",
    "\n",
    "get_stock_data(stocks_ind, start, end, INDIA_ISO, interval='1mo', period='60d')\n",
    "    \n",
    "    "
   ]
  },
  {
   "cell_type": "code",
   "execution_count": null,
   "id": "6114c386",
   "metadata": {},
   "outputs": [],
   "source": []
  },
  {
   "cell_type": "code",
   "execution_count": null,
   "id": "5c9577a9",
   "metadata": {},
   "outputs": [],
   "source": []
  }
 ],
 "metadata": {
  "kernelspec": {
   "display_name": "Python 3",
   "language": "python",
   "name": "python3"
  },
  "language_info": {
   "codemirror_mode": {
    "name": "ipython",
    "version": 3
   },
   "file_extension": ".py",
   "mimetype": "text/x-python",
   "name": "python",
   "nbconvert_exporter": "python",
   "pygments_lexer": "ipython3",
   "version": "3.9.1"
  }
 },
 "nbformat": 4,
 "nbformat_minor": 5
}
